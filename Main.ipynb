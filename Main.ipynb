{
 "cells": [
  {
   "cell_type": "markdown",
   "source": [
    "# Basics of Mobile Robotics Project"
   ],
   "metadata": {
    "collapsed": false,
    "pycharm": {
     "name": "#%% md\n",
     "is_executing": false
    }
   }
  },
  {
   "cell_type": "markdown",
   "source": [
    "## Color calibration\n",
    "In order to detect the colors one should first calibrate \n",
    "the filters using the color_calibration.py script. \n",
    "Trackbars are used to easily set the HSV parameters \n",
    "and isolate the desired color. The parameters are then saved in a txt file.\n"
   ],
   "metadata": {
    "collapsed": false
   }
  },
  {
   "cell_type": "code",
   "execution_count": 3,
   "outputs": [],
   "source": [
    "# !python color_calibration.py\n"
   ],
   "metadata": {
    "collapsed": false,
    "pycharm": {
     "name": "#%%\n",
     "is_executing": false
    }
   }
  },
  {
   "cell_type": "markdown",
   "source": [
    "## Main\n",
    "\n",
    "**imports**"
   ],
   "metadata": {
    "collapsed": false,
    "pycharm": {
     "name": "#%% md\n"
    }
   }
  },
  {
   "cell_type": "code",
   "execution_count": null,
   "outputs": [],
   "source": [
    "import os\n",
    "import glob\n",
    "import numpy as np\n",
    "import time\n",
    "import json\n",
    "import matplotlib.image as mpimg\n",
    "\n",
    "from particle_filter import *\n",
    "import utils as ut\n",
    "import Thymio_custom\n",
    "import global_controller\n",
    "import Pathplanning\n",
    "import control\n",
    "from local_avoidance import local_avoidance"
   ],
   "metadata": {
    "collapsed": false,
    "pycharm": {
     "name": "#%% \n"
    }
   }
  },
  {
   "cell_type": "markdown",
   "source": [
    "**map loading and setup**"
   ],
   "metadata": {
    "collapsed": false,
    "pycharm": {
     "name": "#%% md\n"
    }
   }
  },
  {
   "cell_type": "code",
   "execution_count": null,
   "outputs": [],
   "source": [
    "map_file = \"data\\\\mapA0.png\"\n",
    "save_dir = \"output\\\\particles_\""
   ],
   "metadata": {
    "collapsed": false,
    "pycharm": {
     "name": "#%%\n"
    }
   }
  },
  {
   "cell_type": "markdown",
   "source": [
    "importing sensor calibration data"
   ],
   "metadata": {
    "collapsed": false
   }
  },
  {
   "cell_type": "code",
   "execution_count": null,
   "outputs": [],
   "source": [
    "config_filename = 'data\\\\config_TP465.json'\n",
    "with open(config_filename) as infile:\n",
    "    config = json.load(infile)"
   ],
   "metadata": {
    "collapsed": false,
    "pycharm": {
     "name": "#%%\n"
    }
   }
  },
  {
   "cell_type": "markdown",
   "source": [
    "importing the ground map, and converting it to a map in sensor values for each sensor"
   ],
   "metadata": {
    "collapsed": false
   }
  },
  {
   "cell_type": "code",
   "execution_count": null,
   "outputs": [],
   "source": [
    "ground_map = np.flipud(mpimg.imread(map_file).astype(float))[:, :, 0]\n",
    "vUnitToSensor = np.vectorize(ut.unit_to_sensor, excluded=[1])\n",
    "ground_map_left = vUnitToSensor(np.transpose(ground_map), config['left'])\n",
    "ground_map_right = vUnitToSensor(np.transpose(ground_map), config['right'])\n"
   ],
   "metadata": {
    "collapsed": false,
    "pycharm": {
     "name": "#%%\n"
    }
   }
  },
  {
   "cell_type": "markdown",
   "source": [
    "**vision** <br>\n",
    "The vision functions can detect the position of the obstacles, goal and thymio \n",
    "as well as its orientation. It also detects the map boundaries and projects it. \n",
    "the draw functions can be used for debugging\n"
   ],
   "metadata": {
    "collapsed": false,
    "pycharm": {
     "name": "#%% md\n"
    }
   }
  },
  {
   "cell_type": "code",
   "source": [
    "x, y, theta, goal, obsList = Pathplanning.take_picture_to_init(margeObs=8.5, cam_capture=0)\n",
    "\n",
    "\n",
    "\n"
   ],
   "metadata": {
    "collapsed": false,
    "pycharm": {
     "name": "#%% \n",
     "is_executing": false
    }
   },
   "execution_count": 2,
   "outputs": []
  }
 ],
 "metadata": {
  "kernelspec": {
   "display_name": "Python 3",
   "language": "python",
   "name": "python3"
  },
  "language_info": {
   "codemirror_mode": {
    "name": "ipython",
    "version": 2
   },
   "file_extension": ".py",
   "mimetype": "text/x-python",
   "name": "python",
   "nbconvert_exporter": "python",
   "pygments_lexer": "ipython2",
   "version": "2.7.6"
  },
  "pycharm": {
   "stem_cell": {
    "cell_type": "raw",
    "source": [
     "\n"
    ],
    "metadata": {
     "collapsed": false
    }
   }
  }
 },
 "nbformat": 4,
 "nbformat_minor": 0
}