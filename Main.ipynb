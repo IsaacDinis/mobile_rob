{
 "cells": [
  {
   "cell_type": "markdown",
   "metadata": {
    "pycharm": {
     "is_executing": false,
     "name": "#%% md\n"
    }
   },
   "source": [
    "# Basics of Mobile Robotics Project"
   ]
  },
  {
   "cell_type": "markdown",
   "metadata": {},
   "source": [
    "## Color calibration\n",
    "In order to detect the colors one should first calibrate \n",
    "the filters using the color_calibration.py script. \n",
    "Trackbars are used to easily set the HSV parameters \n",
    "and isolate the desired color. The parameters are then saved in a txt file.\n"
   ]
  },
  {
   "cell_type": "code",
   "execution_count": 3,
   "metadata": {
    "collapsed": false,
    "jupyter": {
     "outputs_hidden": false
    },
    "pycharm": {
     "is_executing": false,
     "name": "#%%\n"
    }
   },
   "outputs": [],
   "source": [
    "# !python color_calibration.py\n"
   ]
  },
  {
   "cell_type": "markdown",
   "metadata": {
    "pycharm": {
     "name": "#%% md\n"
    }
   },
   "source": [
    "## Main\n",
    "\n",
    "**imports**"
   ]
  },
  {
   "cell_type": "code",
   "execution_count": null,
   "metadata": {
    "collapsed": false,
    "jupyter": {
     "outputs_hidden": false
    },
    "pycharm": {
     "name": "#%% \n"
    }
   },
   "outputs": [],
   "source": [
    "import os\n",
    "import glob\n",
    "import numpy as np\n",
    "import time\n",
    "import json\n",
    "import matplotlib.image as mpimg\n",
    "\n",
    "from particle_filter import *\n",
    "import utils as ut\n",
    "import Thymio_custom\n",
    "import global_controller\n",
    "import Pathplanning\n",
    "import control\n",
    "from local_avoidance import local_avoidance"
   ]
  },
  {
   "cell_type": "markdown",
   "metadata": {
    "pycharm": {
     "name": "#%% md\n"
    }
   },
   "source": [
    "**map loading and setup**"
   ]
  },
  {
   "cell_type": "code",
   "execution_count": null,
   "metadata": {
    "collapsed": false,
    "jupyter": {
     "outputs_hidden": false
    },
    "pycharm": {
     "name": "#%%\n"
    }
   },
   "outputs": [],
   "source": [
    "map_file = \"data\\\\mapA0.png\"\n",
    "save_dir = \"output\\\\particles_\""
   ]
  },
  {
   "cell_type": "markdown",
   "metadata": {},
   "source": [
    "importing sensor calibration data"
   ]
  },
  {
   "cell_type": "code",
   "execution_count": null,
   "metadata": {
    "collapsed": false,
    "jupyter": {
     "outputs_hidden": false
    },
    "pycharm": {
     "name": "#%%\n"
    }
   },
   "outputs": [],
   "source": [
    "config_filename = 'data\\\\config_TP465.json'\n",
    "with open(config_filename) as infile:\n",
    "    config = json.load(infile)"
   ]
  },
  {
   "cell_type": "markdown",
   "metadata": {},
   "source": [
    "importing the ground map, and converting it to a map in sensor values for each sensor"
   ]
  },
  {
   "cell_type": "code",
   "execution_count": null,
   "metadata": {
    "collapsed": false,
    "jupyter": {
     "outputs_hidden": false
    },
    "pycharm": {
     "name": "#%%\n"
    }
   },
   "outputs": [],
   "source": [
    "ground_map = np.flipud(mpimg.imread(map_file).astype(float))[:, :, 0]\n",
    "vUnitToSensor = np.vectorize(ut.unit_to_sensor, excluded=[1])\n",
    "ground_map_left = vUnitToSensor(np.transpose(ground_map), config['left'])\n",
    "ground_map_right = vUnitToSensor(np.transpose(ground_map), config['right'])\n"
   ]
  },
  {
   "cell_type": "markdown",
   "metadata": {
    "pycharm": {
     "name": "#%% md\n"
    }
   },
   "source": [
    "**vision** <br>\n",
    "The vision functions can detect the position of the obstacles, goal and thymio \n",
    "as well as its orientation. It also detects the map boundaries and projects it. \n",
    "the draw functions can be used for debugging\n",
    "\n",
    "The polygons are dilated to avoid colision with the robot.\n",
    "If 2 dilated polygons touches, they are merged to avoid.\n",
    "\n",
    "- Library used for polygon manipulation: Shapely\n",
    "https://shapely.readthedocs.io/en/stable/manual.html\n",
    "\n",
    "- Tutorial to merge 2 polygons:\n",
    "https://deparkes.co.uk/2015/02/28/how-to-merge-polygons-in-python/\n"
   ]
  },
  {
   "cell_type": "code",
   "execution_count": 2,
   "metadata": {
    "collapsed": false,
    "jupyter": {
     "outputs_hidden": false
    },
    "pycharm": {
     "is_executing": false,
     "name": "#%% \n"
    }
   },
   "outputs": [],
   "source": [
    "x, y, theta, goal, obsList = Pathplanning.take_picture_to_init(margeObs=8.5, cam_capture=0)"
   ]
  },
  {
   "cell_type": "markdown",
   "metadata": {
    "pycharm": {
     "name": "#%% md\n"
    }
   },
   "source": [
    "Path finding\n",
    "We create a Visibility Graph of the map, then perform an A* search on the given graph, and return the shortest path.\n",
    "In contrary to the voronoi diagram method, this method is optimale in term of path length.\n",
    "\n",
    "Librairy used for visiblity Graph generation and Graph search:\n",
    "https://github.com/MrMinimal64/extremitypathfinder"
   ]
  },
  {
   "cell_type": "code",
   "execution_count": null,
   "metadata": {
    "collapsed": false,
    "jupyter": {
     "outputs_hidden": false
    },
    "pycharm": {
     "name": "#%%\n"
    }
   },
   "outputs": [],
   "source": [
    "path = Pathplanning.find_path([x, y], goal, obsList, plotFlag=True)\n",
    "\n",
    "path = [np.array(tup) for tup in path]  # converting tuples in np array\n",
    "glob_ctrl = global_controller.GlobalController(path, tubeTol=4, outOfTubeAvancementTarget=3, noTurningDistance=3 )"
   ]
  },
  {
   "cell_type": "markdown",
   "metadata": {
    "pycharm": {
     "name": "#%% md\n"
    }
   },
   "source": [
    "connection to the thymio\n"
   ]
  },
  {
   "cell_type": "code",
   "execution_count": null,
   "metadata": {
    "collapsed": false,
    "jupyter": {
     "outputs_hidden": false
    },
    "pycharm": {
     "name": "#%%\n"
    }
   },
   "outputs": [],
   "source": [
    "thymio = Thymio_custom.Thymio.serial(port=\"COM10\", refreshing_rate=0.1, global_controller=glob_ctrl)"
   ]
  },
  {
   "cell_type": "markdown",
   "metadata": {
    "pycharm": {
     "name": "#%% md\n"
    }
   },
   "source": [
    "setting up all the filter "
   ]
  },
  {
   "cell_type": "code",
   "execution_count": null,
   "metadata": {
    "collapsed": false,
    "jupyter": {
     "outputs_hidden": false
    },
    "pycharm": {
     "name": "#%%\n"
    }
   },
   "outputs": [],
   "source": [
    "loc = MonteCarlo(ground_map_left, ground_map_right, particles_count=150000, sigma_obs=150., prop_uniform=0,\n",
    "                 alpha_xy=0.1, alpha_theta=0.1,  state_init=[x, y, theta])"
   ]
  },
  {
   "cell_type": "markdown",
   "metadata": {
    "pycharm": {
     "name": "#%% md\n"
    }
   },
   "source": [
    "remove previous output plots"
   ]
  },
  {
   "cell_type": "code",
   "execution_count": null,
   "metadata": {
    "collapsed": false,
    "jupyter": {
     "outputs_hidden": false
    },
    "pycharm": {
     "name": "#%% \n"
    }
   },
   "outputs": [],
   "source": [
    "for fl in glob.glob(save_dir+\"*\"):\n",
    "    os.remove(fl)"
   ]
  },
  {
   "cell_type": "markdown",
   "metadata": {
    "pycharm": {
     "name": "#%% md\n"
    }
   },
   "source": [
    "plot the inital state"
   ]
  },
  {
   "cell_type": "code",
   "execution_count": null,
   "metadata": {
    "collapsed": false,
    "jupyter": {
     "outputs_hidden": false
    },
    "pycharm": {
     "name": "#%%\n"
    }
   },
   "outputs": [],
   "source": [
    "loc.plot_state( map_back=ground_map, num_particles=50)"
   ]
  },
  {
   "cell_type": "markdown",
   "metadata": {
    "pycharm": {
     "name": "#%% md\n"
    }
   },
   "source": [
    "thymio initialisation"
   ]
  },
  {
   "cell_type": "code",
   "execution_count": null,
   "metadata": {
    "collapsed": false,
    "jupyter": {
     "outputs_hidden": false
    },
    "pycharm": {
     "name": "#%%\n"
    }
   },
   "outputs": [],
   "source": [
    "Thymio_custom.wait_init(thymio)\n",
    "Thymio_custom.reset_thymio(thymio)"
   ]
  },
  {
   "cell_type": "markdown",
   "metadata": {
    "pycharm": {
     "name": "#%% md\n"
    }
   },
   "source": [
    "main loop"
   ]
  },
  {
   "cell_type": "code",
   "execution_count": null,
   "metadata": {
    "collapsed": false,
    "jupyter": {
     "outputs_hidden": false
    },
    "pycharm": {
     "name": "#%%\n"
    }
   },
   "outputs": [],
   "source": [
    "i = 1\n",
    "d_reck = np.array([x, y, theta])  # dead_reckoning --> debug but doesn't harm\n",
    "thymio.start_t = time.time()\n",
    "try:\n",
    "    while glob_ctrl.state is not \"reachedGoal\":\n",
    "\n",
    "        print(\"----------------------\", i, \"t{:0.2f}\".format(time.time()-thymio.start_t))\n",
    "        sensor_left, sensor_right, dx, dy, dth = thymio.read_odometry()\n",
    "\n",
    "        # localization\n",
    "        start_t_loc = time.time()\n",
    "        loc.apply_command(dx, dy, dth)\n",
    "        loc.apply_obs_and_resample(sensor_left, sensor_right)\n",
    "        est_pos, confidence = loc.estimate_state()\n",
    "        duration = time.time() - start_t_loc\n",
    "\n",
    "        # print(\"Ground values:\", sensor_left, sensor_right)\n",
    "        print(\"Odometry: {:0.2f} {:0.2f} {:0.2f}\".format(dx, dy, dth))\n",
    "        # print(\"Dead reckoning: {:0.2f} {:0.2f} {:0.2f}\".format(d_reck[0], d_reck[1], d_reck[2])+\",  sum dx:\", sum_dx)\n",
    "        print(\"Estimated state: {:0.2f} {:0.2f} {:0.2f}\".format(est_pos[0], est_pos[1], est_pos[2]))\n",
    "        if confidence < 0.7:\n",
    "            print(\"WARNING LOW CONFIDENCE:\", confidence)\n",
    "        else:\n",
    "            print(\"Confidence:\", confidence)\n",
    "\n",
    "        # odometry alone --> debug purposes, but doesn't harm anyone if kept\n",
    "        d_reck[0:2] += (ut.rot_mat2(d_reck[2]) @ np.asarray([dx, dy]).T).T\n",
    "        d_reck[2] += dth\n",
    "\n",
    "        # plotting\n",
    "        plot_time = time.time()  # yes it takes time !\n",
    "        loc.plot_state(map_back=ground_map, num_particles=50, odom=d_reck,\n",
    "                       sens=[sensor_left, sensor_right], path=path)  # base_filename=save_dir+str(i),\n",
    "        print(\"Duration algo, plot : {} , {} ms\".format(round(1000*duration), round(1000 * (time.time() - plot_time))))\n",
    "\n",
    "        glob_ctrl.followPath(est_pos[0:2], est_pos[2], thymio, thymio.nav_flag)\n",
    "\n",
    "        if thymio.nav_flag == \"local\":\n",
    "            thymio.set_var_array(\"leds.top\", [255, 255, 0])  # yellow\n",
    "            local_avoidance(thymio)\n",
    "        elif glob_ctrl.state == \"start\":  # everything is going well\n",
    "            thymio.set_var_array(\"leds.top\", [0, 255, 0])  # green\n",
    "        elif thymio.nav_flag == \"global\":  # coming back to the planned path\n",
    "            thymio.set_var_array(\"leds.top\", [0, 0, 255])  # blue\n",
    "\n",
    "        i += 1\n",
    "        time.sleep(0.2)  # slow down the loop\n",
    "\n",
    "    thymio.set_var_array(\"leds.top\", [255, 0, 127])  # pink when loop is exited normally --> goal reached\n",
    "except KeyboardInterrupt:\n",
    "    pass\n",
    "\n",
    "control.stop_thymio(thymio)"
   ]
  }
 ],
 "metadata": {
  "kernelspec": {
   "display_name": "Python 3",
   "language": "python",
   "name": "python3"
  },
  "language_info": {
   "codemirror_mode": {
    "name": "ipython",
    "version": 3
   },
   "file_extension": ".py",
   "mimetype": "text/x-python",
   "name": "python",
   "nbconvert_exporter": "python",
   "pygments_lexer": "ipython3",
   "version": "3.7.3"
  },
  "pycharm": {
   "stem_cell": {
    "cell_type": "raw",
    "metadata": {
     "collapsed": false
    },
    "source": [
     "\n"
    ]
   }
  }
 },
 "nbformat": 4,
 "nbformat_minor": 4
}
