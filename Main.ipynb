{
 "cells": [
  {
   "cell_type": "markdown",
   "metadata": {
    "pycharm": {
     "is_executing": false,
     "name": "#%% md\n"
    }
   },
   "source": [
    "# Basics of Mobile Robotics Project"
   ]
  },
  {
   "cell_type": "markdown",
   "metadata": {},
   "source": [
    "## Color calibration\n",
    "In order to detect the colors one should first calibrate \n",
    "the filters using the color_calibration.py script. \n",
    "Trackbars are used to easily set the HSV parameters \n",
    "and isolate the desired color. The parameters are then saved in a txt file.\n"
   ]
  },
  {
   "cell_type": "code",
   "execution_count": 1,
   "metadata": {
    "pycharm": {
     "is_executing": false,
     "name": "#%%\n"
    }
   },
   "outputs": [],
   "source": [
    "# !python color_calibration.py\n"
   ]
  },
  {
   "cell_type": "markdown",
   "metadata": {
    "pycharm": {
     "name": "#%% md\n"
    }
   },
   "source": [
    "## Main\n",
    "\n",
    "**imports**"
   ]
  },
  {
   "cell_type": "code",
   "execution_count": 2,
   "metadata": {
    "pycharm": {
     "name": "#%% \n"
    }
   },
   "outputs": [],
   "source": [
    "%matplotlib inline\n",
    "import os\n",
    "import glob\n",
    "import numpy as np\n",
    "import time\n",
    "import json\n",
    "import matplotlib.image as mpimg\n",
    "\n",
    "from particle_filter import *\n",
    "import utils as ut\n",
    "import Thymio_custom\n",
    "import global_controller\n",
    "import Pathplanning\n",
    "import control\n",
    "from local_avoidance import local_avoidance"
   ]
  },
  {
   "cell_type": "markdown",
   "metadata": {
    "pycharm": {
     "name": "#%% md\n"
    }
   },
   "source": [
    "**Loading files**"
   ]
  },
  {
   "cell_type": "code",
   "execution_count": 3,
   "metadata": {
    "pycharm": {
     "name": "#%%\n"
    }
   },
   "outputs": [],
   "source": [
    "map_file = \"data\\\\mapA0.png\"\n",
    "save_dir = \"output\\\\particles_\"\n",
    "\n",
    "# importing sensor calibration data\n",
    "config_filename = 'data\\\\config_TP465.json'\n",
    "with open(config_filename) as infile:\n",
    "    config = json.load(infile)\n",
    "    \n",
    "# importing the ground map, and converting it to a map in sensor values for each sensor\n",
    "ground_map = np.flipud(mpimg.imread(map_file).astype(float))[:, :, 0]\n",
    "vUnitToSensor = np.vectorize(ut.unit_to_sensor, excluded=[1])\n",
    "ground_map_left = vUnitToSensor(np.transpose(ground_map), config['left'])\n",
    "ground_map_right = vUnitToSensor(np.transpose(ground_map), config['right'])\n"
   ]
  },
  {
   "cell_type": "markdown",
   "metadata": {
    "pycharm": {
     "name": "#%% md\n"
    }
   },
   "source": [
    "### vision\n",
    "The vision functions can detect the position of the obstacles, goal and thymio \n",
    "as well as its orientation. It also detects the map boundaries and projects it. \n",
    "the draw functions can be used for debugging\n"
   ]
  },
  {
   "cell_type": "code",
   "execution_count": 12,
   "metadata": {
    "pycharm": {
     "is_executing": false,
     "name": "#%% \n"
    },
    "scrolled": true
   },
   "outputs": [
    {
     "name": "stdout",
     "output_type": "stream",
     "text": [
      "space pressed\n"
     ]
    }
   ],
   "source": [
    "x, y, theta, goal, obsList = Pathplanning.take_picture_to_init(margeObs=8.5, cam_capture=0)"
   ]
  },
  {
   "cell_type": "markdown",
   "metadata": {
    "pycharm": {
     "name": "#%% md\n"
    }
   },
   "source": [
    "BLABLA PATH FINDING"
   ]
  },
  {
   "cell_type": "code",
   "execution_count": 13,
   "metadata": {
    "pycharm": {
     "name": "#%%\n"
    },
    "scrolled": true
   },
   "outputs": [
    {
     "data": {
      "image/png": "[encoded data removed]",
      "text/plain": [
       "<Figure size 432x288 with 1 Axes>"
      ]
     },
     "metadata": {
      "needs_background": "light"
     },
     "output_type": "display_data"
    }
   ],
   "source": [
    "path=None\n",
    "path = Pathplanning.find_path([x, y], goal, obsList, plotFlag=True)\n",
    "\n",
    "path = [np.array(tup) for tup in path]  # converting tuples in np array\n",
    "glob_ctrl = global_controller.GlobalController(path, tubeTol=4, outOfTubeAvancementTarget=3, noTurningDistance=3 )"
   ]
  },
  {
   "cell_type": "markdown",
   "metadata": {
    "pycharm": {
     "name": "#%% md\n"
    }
   },
   "source": [
    "### Communication with the Thymio\n",
    "We modified the provided interface to best fit our needs. Indeed we needed a high reactivity to be able to avoid \n",
    "the local obstacles and a precise incrementation of the odometry. We therefore added some functions of our own in \n",
    "the refreshing thread. \n",
    "\n",
    "Connection to the thymio:"
   ]
  },
  {
   "cell_type": "code",
   "execution_count": 6,
   "metadata": {
    "pycharm": {
     "name": "#%%\n"
    }
   },
   "outputs": [],
   "source": [
    "thymio = Thymio_custom.Thymio.serial(port=\"COM14\", refreshing_rate=0.1, global_controller=glob_ctrl)"
   ]
  },
  {
   "cell_type": "markdown",
   "metadata": {
    "pycharm": {
     "name": "#%% md\n"
    }
   },
   "source": [
    "### Particle filter\n",
    "We decided to implement a Monte Carlo localization that we adapted from the paper *Wang S., Colas F., Liu M., Mondada F., Magnenat S. (2018) Localization of Inexpensive Robots with Low-Bandwidth\n",
    "Sensors.* <br>\n",
    "A lot of effort was spent to decrease the computation time of this algorithm. Because we weren't satisfied with \n",
    "the performance given by the Cython library originally used, we decided to optimize the code with Numba, achieving a \n",
    "10 times lower execution time of around 400ms for 150000 particles, wich is great enough for this project. <br>\n",
    "The three main steps are \n",
    "1. Propagating the particles with the measured odometry\n",
    "2. Calculating the likelihood of each particle with respect to the ground sensor measurements, \n",
    "and resampling them according to their probability\n",
    "3. Estimating the real state using a RANSAC algorithm <br><br>\n",
    "\n",
    "Initialisation of the localiser:"
   ]
  },
  {
   "cell_type": "code",
   "execution_count": 7,
   "metadata": {
    "pycharm": {
     "name": "#%%\n"
    }
   },
   "outputs": [],
   "source": [
    "loc = MonteCarlo(ground_map_left, ground_map_right, particles_count=150000, sigma_obs=150., prop_uniform=0,\n",
    "                 alpha_xy=0.1, alpha_theta=0.1,  state_init=[x, y, theta])"
   ]
  },
  {
   "cell_type": "markdown",
   "metadata": {
    "pycharm": {
     "name": "#%% md\n"
    }
   },
   "source": [
    "Remove previous output plots, plot the inital state and reset thymio\n"
   ]
  },
  {
   "cell_type": "code",
   "execution_count": 8,
   "metadata": {
    "pycharm": {
     "name": "#%% \n"
    }
   },
   "outputs": [
    {
     "data": {
      "image/png": "[encoded data removed]",
      "text/plain": [
       "<Figure size 432x288 with 1 Axes>"
      ]
     },
     "metadata": {
      "needs_background": "light"
     },
     "output_type": "display_data"
    }
   ],
   "source": [
    "for fl in glob.glob(save_dir+\"*\"):\n",
    "    os.remove(fl)\n",
    "\n",
    "loc.plot_state( map_back=ground_map, num_particles=50)\n",
    "\n",
    "Thymio_custom.wait_init(thymio)\n",
    "Thymio_custom.reset_thymio(thymio)"
   ]
  },
  {
   "cell_type": "markdown",
   "metadata": {
    "pycharm": {
     "name": "#%% md\n"
    }
   },
   "source": [
    "### main loop"
   ]
  },
  {
   "cell_type": "code",
   "execution_count": 10,
   "metadata": {
    "pycharm": {
     "name": "#%%\n"
    }
   },
   "outputs": [
    {
     "name": "stdout",
     "output_type": "stream",
     "text": [
      "---------------------- 1 t0.00\n",
      "Estimated state: 62.18 14.27 2.06\n",
      "Confidence: 0.768\n",
      "Duration algo, plot : 587 , 64 ms\n",
      "NavType: global // self.state: wait // pos : [62.17523408 14.26632502]\n",
      "has finished waiting\n",
      "---------------------- 2 t0.86\n",
      "Estimated state: 61.79 14.01 2.06\n",
      "Confidence: 0.758\n",
      "Duration algo, plot : 682 , 91 ms\n",
      "NavType: global // self.state: turnInTube // pos : [61.78892851 14.01109411]\n",
      "turning in tube -0.42461198266114053\n",
      "---------------------- 3 t1.83\n",
      "Estimated state: 61.94 14.42 2.07\n",
      "Confidence: 0.766\n",
      "Duration algo, plot : 718 , 52 ms\n",
      "NavType: global // self.state: wait // pos : [61.94313733 14.41852971]\n",
      "has finished waiting\n",
      "---------------------- 4 t2.80\n",
      "Estimated state: 61.55 14.42 1.71\n",
      "Confidence: 0.7026666666666667\n",
      "Duration algo, plot : 581 , 72 ms\n",
      "NavType: global // self.state: straightInTube // pos : [61.55070511 14.4166956 ]\n",
      "---------------------- 5 t3.66\n"
     ]
    }
   ],
   "source": [
    "i = 1\n",
    "d_reck = np.array([x, y, theta])  # dead_reckoning --> debug but doesn't harm\n",
    "thymio.start_t = time.time()\n",
    "try:\n",
    "    while glob_ctrl.state is not \"reachedGoal\":\n",
    "\n",
    "        print(\"----------------------\", i, \"t{:0.2f}\".format(time.time()-thymio.start_t))\n",
    "        sensor_left, sensor_right, dx, dy, dth = thymio.read_odometry()\n",
    "\n",
    "        # localization\n",
    "        start_t_loc = time.time()\n",
    "        loc.apply_command(dx, dy, dth)\n",
    "        loc.apply_obs_and_resample(sensor_left, sensor_right)\n",
    "        est_pos, confidence = loc.estimate_state()\n",
    "        duration = time.time() - start_t_loc\n",
    "\n",
    "        print(\"Estimated state: {:0.2f} {:0.2f} {:0.2f}\".format(est_pos[0], est_pos[1], est_pos[2]))\n",
    "        if confidence < 0.7:\n",
    "            print(\"WARNING LOW CONFIDENCE:\", confidence)\n",
    "        else:\n",
    "            print(\"Confidence:\", confidence)\n",
    "\n",
    "        # odometry alone --> debug purposes, but doesn't harm anyone if kept\n",
    "        d_reck[0:2] += (ut.rot_mat2(d_reck[2]) @ np.asarray([dx, dy]).T).T\n",
    "        d_reck[2] += dth\n",
    "\n",
    "        # plotting\n",
    "        plot_time = time.time()  # yes it takes time !\n",
    "        loc.plot_state(map_back=ground_map, num_particles=50, odom=d_reck,\n",
    "                       sens=[sensor_left, sensor_right], path=path)  # base_filename=save_dir+str(i),\n",
    "        print(\"Duration algo, plot : {} , {} ms\".format(round(1000*duration), round(1000 * (time.time() - plot_time))))\n",
    "\n",
    "        glob_ctrl.followPath(est_pos[0:2], est_pos[2], thymio, thymio.nav_flag)\n",
    "\n",
    "        if thymio.nav_flag == \"local\":\n",
    "            thymio.set_var_array(\"leds.top\", [255, 255, 0])  # yellow\n",
    "            local_avoidance(thymio)\n",
    "        elif glob_ctrl.state == \"start\":  # everything is going well\n",
    "            thymio.set_var_array(\"leds.top\", [0, 255, 0])  # green\n",
    "        elif thymio.nav_flag == \"global\":  # coming back to the planned path\n",
    "            thymio.set_var_array(\"leds.top\", [0, 0, 255])  # blue\n",
    "\n",
    "        i += 1\n",
    "        time.sleep(0.2)  # slow down the loop\n",
    "\n",
    "    thymio.set_var_array(\"leds.top\", [255, 0, 127])  # pink when loop is exited normally --> goal reached\n",
    "except:\n",
    "    thymio.set_var_array(\"leds.top\", [255, 0, 0])  # red\n",
    "    pass\n",
    "\n",
    "control.stop_thymio(thymio)"
   ]
  },
  {
   "cell_type": "code",
   "execution_count": 14,
   "metadata": {},
   "outputs": [],
   "source": [
    "control.stop_thymio(thymio)"
   ]
  }
 ],
 "metadata": {
  "kernelspec": {
   "display_name": "Python 3",
   "language": "python",
   "name": "python3"
  },
  "language_info": {
   "codemirror_mode": {
    "name": "ipython",
    "version": 3
   },
   "file_extension": ".py",
   "mimetype": "text/x-python",
   "name": "python",
   "nbconvert_exporter": "python",
   "pygments_lexer": "ipython3",
   "version": "3.7.3"
  },
  "pycharm": {
   "stem_cell": {
    "cell_type": "raw",
    "metadata": {
     "collapsed": false
    },
    "source": [
     "\n"
    ]
   }
  }
 },
 "nbformat": 4,
 "nbformat_minor": 1
}
